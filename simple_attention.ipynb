{
 "cells": [
  {
   "cell_type": "code",
   "execution_count": 6,
   "id": "1ab79f20",
   "metadata": {},
   "outputs": [
    {
     "name": "stdout",
     "output_type": "stream",
     "text": [
      "[[1 0 0]\n",
      " [0 1 0]\n",
      " [1 1 0]\n",
      " [0 0 1]]\n"
     ]
    }
   ],
   "source": [
    "from numpy import array\n",
    "from numpy import random\n",
    "from numpy import dot\n",
    "from scipy.special import softmax\n",
    " \n",
    "# encoder representations of four different words\n",
    "word_1 = array([1, 0, 0])\n",
    "word_2 = array([0, 1, 0])\n",
    "word_3 = array([1, 1, 0])\n",
    "word_4 = array([0, 0, 1])\n",
    " \n",
    "# stacking the word embeddings into a single array\n",
    "words = array([word_1, word_2, word_3, word_4])\n",
    " \n",
    "print(words)\n"
   ]
  },
  {
   "cell_type": "code",
   "execution_count": 8,
   "id": "c5f0453d",
   "metadata": {},
   "outputs": [
    {
     "name": "stdout",
     "output_type": "stream",
     "text": [
      "[[2 0 2]\n",
      " [2 0 0]\n",
      " [2 1 2]]\n",
      "[[2 2 2]\n",
      " [0 2 1]\n",
      " [0 1 1]]\n",
      "[[1 1 0]\n",
      " [0 1 1]\n",
      " [0 0 0]]\n"
     ]
    }
   ],
   "source": [
    "# generating the weight matrices\n",
    "random.seed(42)\n",
    "W_Q = random.randint(3, size=(3, 3))\n",
    "W_K = random.randint(3, size=(3, 3))\n",
    "W_V = random.randint(3, size=(3, 3))\n",
    " \n",
    "print(W_Q)\n",
    "print(W_K)\n",
    "print(W_V)\n"
   ]
  },
  {
   "cell_type": "code",
   "execution_count": 10,
   "id": "e9b6351a",
   "metadata": {},
   "outputs": [
    {
     "name": "stdout",
     "output_type": "stream",
     "text": [
      "[[2 0 2]\n",
      " [2 0 0]\n",
      " [4 0 2]\n",
      " [2 1 2]]\n",
      "[[2 2 2]\n",
      " [0 2 1]\n",
      " [2 4 3]\n",
      " [0 1 1]]\n",
      "[[1 1 0]\n",
      " [0 1 1]\n",
      " [1 2 1]\n",
      " [0 0 0]]\n"
     ]
    }
   ],
   "source": [
    "# generating the queries, keys and values\n",
    "Q = words @ W_Q\n",
    "K = words @ W_K\n",
    "V = words @ W_V\n",
    " \n",
    "print(Q) \n",
    "print(K)\n",
    "print(V)"
   ]
  },
  {
   "cell_type": "code",
   "execution_count": 11,
   "id": "db2783cb",
   "metadata": {},
   "outputs": [
    {
     "name": "stdout",
     "output_type": "stream",
     "text": [
      "[[ 8  2 10  2]\n",
      " [ 4  0  4  0]\n",
      " [12  2 14  2]\n",
      " [10  4 14  3]]\n"
     ]
    }
   ],
   "source": [
    "# scoring the query vectors against all key vectors\n",
    "scores = Q @ K.transpose()\n",
    "print(scores)"
   ]
  },
  {
   "cell_type": "code",
   "execution_count": 17,
   "id": "4490ce85",
   "metadata": {},
   "outputs": [
    {
     "name": "stdout",
     "output_type": "stream",
     "text": [
      "[[2.36089863e-01 7.38987555e-03 7.49130386e-01 7.38987555e-03]\n",
      " [4.54826323e-01 4.51736775e-02 4.54826323e-01 4.51736775e-02]\n",
      " [2.39275049e-01 7.43870015e-04 7.59237211e-01 7.43870015e-04]\n",
      " [8.99501754e-02 2.81554063e-03 9.05653685e-01 1.58059922e-03]]\n"
     ]
    },
    {
     "data": {
      "text/plain": [
       "array([1., 1., 1., 1.])"
      ]
     },
     "execution_count": 17,
     "metadata": {},
     "output_type": "execute_result"
    }
   ],
   "source": [
    "# computing the weights by a softmax operation\n",
    "weights = softmax(scores / K.shape[1] ** 0.5, axis=1)\n",
    " \n",
    "print(weights)\n",
    "np.sum(weights, axis=1)"
   ]
  },
  {
   "cell_type": "code",
   "execution_count": null,
   "id": "f5f5d6b9",
   "metadata": {},
   "outputs": [],
   "source": [
    "# computing the attention by a weighted sum of the value vectors\n",
    "attention = weights @ V\n",
    " \n",
    "print(attention)"
   ]
  },
  {
   "cell_type": "code",
   "execution_count": 13,
   "id": "db212e8b",
   "metadata": {},
   "outputs": [
    {
     "data": {
      "text/plain": [
       "array([3.48348102, 2.81930529, 3.51698668, 3.80814617])"
      ]
     },
     "execution_count": 13,
     "metadata": {},
     "output_type": "execute_result"
    }
   ],
   "source": [
    "np.sum(attention, axis=1)"
   ]
  }
 ],
 "metadata": {
  "kernelspec": {
   "display_name": "Python 3 (ipykernel)",
   "language": "python",
   "name": "python3"
  },
  "language_info": {
   "codemirror_mode": {
    "name": "ipython",
    "version": 3
   },
   "file_extension": ".py",
   "mimetype": "text/x-python",
   "name": "python",
   "nbconvert_exporter": "python",
   "pygments_lexer": "ipython3",
   "version": "3.10.6"
  }
 },
 "nbformat": 4,
 "nbformat_minor": 5
}
