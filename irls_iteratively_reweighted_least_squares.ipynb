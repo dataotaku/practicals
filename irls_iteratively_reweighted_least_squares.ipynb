{
 "cells": [
  {
   "cell_type": "code",
   "execution_count": 1,
   "id": "a845daac",
   "metadata": {},
   "outputs": [],
   "source": [
    "from __future__ import division\n",
    "import numpy as np"
   ]
  },
  {
   "cell_type": "code",
   "execution_count": 2,
   "id": "7f0fc7a8",
   "metadata": {},
   "outputs": [],
   "source": [
    "def logistic(a):\n",
    "    return 1.0 / (1 + np.exp(-a))"
   ]
  },
  {
   "cell_type": "code",
   "execution_count": 26,
   "id": "5d3965d3",
   "metadata": {},
   "outputs": [],
   "source": [
    "def irls(X, y):\n",
    "    theta = np.zeros(X.shape[1]) # 열의 갯수, 변수의 갯수\n",
    "    theta_ = np.inf\n",
    "    cnt= 0\n",
    "    while max(abs(theta - theta_)) > 1e-7:\n",
    "        a = np.dot(X, theta)\n",
    "        pi = logistic(a)\n",
    "        SX = X * (pi - pi*pi).reshape(-1,1)\n",
    "        XSX = np.dot(X.T, SX)\n",
    "        SXtheta = np.dot(SX, theta)\n",
    "        theta_ = theta\n",
    "        theta = np.linalg.solve(XSX, np.dot(X.T, SXtheta + y - pi))\n",
    "        cnt = cnt + 1\n",
    "    print('Iteration total count is : ', cnt)\n",
    "    return theta"
   ]
  },
  {
   "cell_type": "code",
   "execution_count": 27,
   "id": "0aa198c1",
   "metadata": {},
   "outputs": [
    {
     "data": {
      "text/plain": [
       "(4600, 58)"
      ]
     },
     "execution_count": 27,
     "metadata": {},
     "output_type": "execute_result"
    }
   ],
   "source": [
    "X = np.loadtxt('./spambase/spambase.data', delimiter=',', skiprows=1)\n",
    "X.shape"
   ]
  },
  {
   "cell_type": "code",
   "execution_count": 28,
   "id": "a0f397aa",
   "metadata": {},
   "outputs": [
    {
     "name": "stdout",
     "output_type": "stream",
     "text": [
      "Iteration total count is :  15\n"
     ]
    }
   ],
   "source": [
    "y = X[:,-1]\n",
    "X = X[:,:-1]\n",
    "X = np.c_[np.ones(X.shape[0]), X]\n",
    "Xtrain, Xtest = X[0:4000], X[4000:]\n",
    "ytrain, ytest = y[0:4000], y[4000:]\n",
    "theta = irls(Xtrain, ytrain)"
   ]
  },
  {
   "cell_type": "code",
   "execution_count": 24,
   "id": "d0a1c17e",
   "metadata": {},
   "outputs": [
    {
     "name": "stdout",
     "output_type": "stream",
     "text": [
      "Train data misclassification rate  :  0.0555\n"
     ]
    }
   ],
   "source": [
    "train_rate = sum((logistic(np.dot(Xtrain, theta)) > .5) != ytrain) / ytrain.size\n",
    "print('Train data misclassification rate  : ',train_rate)"
   ]
  },
  {
   "cell_type": "code",
   "execution_count": 25,
   "id": "d5e9521a",
   "metadata": {},
   "outputs": [
    {
     "name": "stdout",
     "output_type": "stream",
     "text": [
      "Test data misclassification rate  :  0.26166666666666666\n"
     ]
    }
   ],
   "source": [
    "test_rate = sum((logistic(np.dot(Xtest, theta)) > .5) != ytest) / ytest.size\n",
    "print('Test data misclassification rate  : ',test_rate)"
   ]
  }
 ],
 "metadata": {
  "kernelspec": {
   "display_name": "Python 3 (ipykernel)",
   "language": "python",
   "name": "python3"
  },
  "language_info": {
   "codemirror_mode": {
    "name": "ipython",
    "version": 3
   },
   "file_extension": ".py",
   "mimetype": "text/x-python",
   "name": "python",
   "nbconvert_exporter": "python",
   "pygments_lexer": "ipython3",
   "version": "3.10.6"
  }
 },
 "nbformat": 4,
 "nbformat_minor": 5
}
